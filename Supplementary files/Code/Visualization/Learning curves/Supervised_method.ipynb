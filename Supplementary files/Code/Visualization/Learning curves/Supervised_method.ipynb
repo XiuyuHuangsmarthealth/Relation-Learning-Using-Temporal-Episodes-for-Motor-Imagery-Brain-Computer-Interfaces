{
  "cells": [
    {
      "cell_type": "markdown",
      "source": [
        "# Instruction"
      ],
      "metadata": {
        "id": "lf_te9_88TkC"
      }
    },
    {
      "cell_type": "markdown",
      "source": [
        "**Run each cell one by one**"
      ],
      "metadata": {
        "id": "QXAhQKJq8TmO"
      }
    },
    {
      "cell_type": "markdown",
      "metadata": {
        "id": "GU1wHT_tnG4s"
      },
      "source": [
        "#Load the dataset from the google drive"
      ]
    },
    {
      "cell_type": "code",
      "execution_count": null,
      "metadata": {
        "id": "R1nShhmh_vPm"
      },
      "outputs": [],
      "source": [
        "!pip install -U -q PyDrive\n",
        "from pydrive.auth import GoogleAuth\n",
        "from pydrive.drive import GoogleDrive\n",
        "from google.colab import auth\n",
        "from oauth2client.client import GoogleCredentials\n",
        "import pprint, pickle\n",
        "# Authenticate and create the PyDrive client.\n",
        "auth.authenticate_user()\n",
        "gauth = GoogleAuth()\n",
        "gauth.credentials = GoogleCredentials.get_application_default()\n",
        "drive = GoogleDrive(gauth)\n",
        "id_1_train=\"1GFFtOkPJskSjhA7-Klfj33fF5eVWa5sE\"\n",
        "id_1_evaluation=\"1G7cd67MlLEBn-OoY612T08yBoRoGyXyd\"\n",
        "\n",
        "\n",
        "id_2_train=\"1AP5V-adbxm-bdOuB-7EtgegqzqtlldxZ\"\n",
        "id_2_evaluation=\"1-XoFS7lPF9DQSO4ItK_KtorUaLFmA4Pn\"\n",
        "\n",
        "id_3_train=\"1RFuUrqJPqBWycC_j1b2Vy1DgBr1yQbPG\"\n",
        "id_3_evaluation=\"1fPSYHnTi5ORcI7QgXjIduAYOYZsoE9tI\"\n",
        "\n",
        "id_4_train=\"1jovz85ALrSRBZgLNUeeoihSJkEYJT3ZH\"\n",
        "id_4_evaluation=\"1e6C3vn7sPV-LO-Q1EbLTHvlcT7oqhJ99\"\n",
        "\n",
        "\n",
        "id_5_train=\"17wrRD332sGeRob6W36MNkQmj9Kc6u5lG\"\n",
        "id_5_evaluation=\"1JUc3flvygXmhdTL-kM_9pvh25pKfpvNy\"\n",
        "\n",
        "id_6_train=\"1vROntA0I75Gq85VXa9jwukl-IXxEOCCb\"\n",
        "id_6_evaluation=\"1pYnce5N2KxxNmFM2sgfxldLpaKgclEiY\"\n",
        "\n",
        "id_7_train=\"1_qvjVphyrE311iInuVDhhWWWN3BC4-sm\"\n",
        "id_7_evaluation=\"18V-Tp3Kny9aYz8rxSFsRQrYDtstVF75d\"\n",
        "\n",
        "\n",
        "id_8_train=\"1Cpi6yNpnMX5oCClCClv7Lcgg2RvxspUF\"\n",
        "id_8_evaluation=\"13cz0_VMYI0-u2LlEhmy61mGuzmjbmP1B\"\n",
        "\n",
        "id_9_train=\"1o0gyOZrYsyw68GFhpKFuwoFRn4pVwb7Q\"\n",
        "id_9_evaluation=\"1KW0_TzquGXygyBksatKEvevm6NYwddEA\"\n",
        "\n",
        "\n",
        "\n",
        "def load(id_train,id_evaluation,subject):\n",
        "  downloaded = drive.CreateFile({'id':id_train}) \n",
        "  downloaded.GetContentFile('A0'+str(subject)+'T.mat')\n",
        "  downloaded = drive.CreateFile({'id':id_evaluation}) \n",
        "  downloaded.GetContentFile('A0'+str(subject)+'E.mat')\n",
        "\n",
        "load(id_1_train,id_1_evaluation,1)\n",
        "load(id_2_train,id_2_evaluation,2)\n",
        "load(id_3_train,id_3_evaluation,3)\n",
        "\n",
        "load(id_4_train,id_4_evaluation,4)\n",
        "load(id_5_train,id_5_evaluation,5)\n",
        "load(id_6_train,id_6_evaluation,6)\n",
        "\n",
        "load(id_7_train,id_7_evaluation,7)\n",
        "load(id_8_train,id_8_evaluation,8)\n",
        "load(id_9_train,id_9_evaluation,9)\n",
        "\n"
      ]
    },
    {
      "cell_type": "markdown",
      "metadata": {
        "id": "9GvrugCjnZfb"
      },
      "source": [
        "#Load the package"
      ]
    },
    {
      "cell_type": "code",
      "execution_count": null,
      "metadata": {
        "id": "-pAVSZXaoOqp"
      },
      "outputs": [],
      "source": [
        "import numpy as np\n",
        "import scipy.io as sio\n",
        "from tensorflow.keras.utils import to_categorical\n",
        "import random\n",
        "import torch\n",
        "import torch.nn as nn\n",
        "import torch.optim as optim\n",
        "from torch.autograd.function import Function\n",
        "from torch.autograd import Variable\n",
        "import torch.nn.functional as F\n",
        "from torch.utils.data import Dataset,DataLoader,TensorDataset\n",
        "from sklearn.model_selection import train_test_split\n",
        "import matplotlib.pyplot as plot\n",
        "from sklearn.decomposition import PCA\n",
        "import torch.utils.data as Data\n",
        "from sklearn.preprocessing import StandardScaler\n",
        "import matplotlib.pyplot as plt\n",
        "from torchvision import models\n",
        "from torchsummary import summary\n",
        "import torch.optim.lr_scheduler as lr_scheduler\n"
      ]
    },
    {
      "cell_type": "markdown",
      "metadata": {
        "id": "xOeNys81qFsk"
      },
      "source": [
        "#Convert the data in mat format into Numpy array"
      ]
    },
    {
      "cell_type": "code",
      "execution_count": null,
      "metadata": {
        "id": "ldAa6XJhA17Q"
      },
      "outputs": [],
      "source": [
        "def load_all_data (crossValidation, data_path): \n",
        "\n",
        "    big_X_train, big_y_train, big_X_test, big_y_test = [None]*9, [None]*9, [None]*9, [None]*9\n",
        "    for subject in range (0,9):\n",
        "        path = data_path+'s' + str(subject+1) + '/'\n",
        "        big_X_train[subject], big_y_train[subject] = get_data(subject+1, True ,path)\n",
        "        big_X_test[subject], big_y_test[subject] = get_data(subject+1, False ,path)\n",
        "    \n",
        "    return big_X_train, big_y_train, big_X_test, big_y_test\n",
        "\n",
        "def get_data_2(subject,training,path, highpass = False):\n",
        "\t'''\tLoads the dataset 2a of the BCI Competition IV\n",
        "\tavailable on http://bnci-horizon-2020.eu/database/data-sets\n",
        "\n",
        "\tKeyword arguments:\n",
        "\tsubject -- number of subject in [1, .. ,9]\n",
        "\ttraining -- if True, load training data\n",
        "\t\t\t\tif False, load testing data\n",
        "\t\n",
        "\tReturn:\tdata_return \tnumpy matrix \tsize = NO_valid_trial x 22 x 1750\n",
        "\t\t\tclass_return \tnumpy matrix \tsize = NO_valid_trial\n",
        "\t'''\n",
        "\tNO_channels = 22\n",
        "\tNO_tests = 6*48 \t\n",
        "\tWindow_Length = 7*250 \n",
        "\n",
        "\tclass_return = np.zeros(NO_tests)\n",
        "\tdata_return = np.zeros((NO_tests,NO_channels,Window_Length))\n",
        "\n",
        "\tNO_valid_trial = 0\n",
        "\tif training:\n",
        "\t\ta = sio.loadmat(path+'A0'+str(subject)+'T.mat')\n",
        "\telse:\n",
        "\t\ta = sio.loadmat(path+'A0'+str(subject)+'E.mat')\n",
        "\ta_data = a['data']\n",
        "\tfor ii in range(0,a_data.size):\n",
        "\t\ta_data1 = a_data[0,ii]\n",
        "\t\ta_data2= [a_data1[0,0]]\n",
        "\t\ta_data3= a_data2[0]\n",
        "\t\ta_X \t\t= a_data3[0]\n",
        "\t\ta_trial \t= a_data3[1]\n",
        "\t\ta_y \t\t= a_data3[2]\n",
        "\t\ta_fs \t\t= a_data3[3]\n",
        "\t\ta_classes \t= a_data3[4]\n",
        "\t\ta_artifacts = a_data3[5]\n",
        "\t\ta_gender \t= a_data3[6]\n",
        "\t\ta_age \t\t= a_data3[7]\n",
        "\n",
        "\t\tfor trial in range(0,a_trial.size):\n",
        "\t\t\tif(a_artifacts[trial]==0):\n",
        "\t\t\t\tdata_return[NO_valid_trial,:,:] = np.transpose(a_X[int(a_trial[trial]):(int(a_trial[trial])+Window_Length),:22])\n",
        "\t\t\t\tclass_return[NO_valid_trial] = int(a_y[trial])\n",
        "\t\t\t\tNO_valid_trial +=1\n",
        "\n",
        "\treturn data_return[0:NO_valid_trial,:,:], class_return[0:NO_valid_trial]\n",
        "\n",
        "def prepare_features(path,subject,crossValidation=False):\n",
        "    fs = 250 \n",
        "    # t1 = int(1.5*fs)\n",
        "    t1 = int(2*fs)\n",
        "\n",
        "    t2 = int(6*fs)\n",
        "    T = t2-t1\n",
        "    X_train, y_train = get_data_2(subject+1,True,path)\n",
        "    # X_train, y_train,train_artifact = get_data_2(subject+1,True,path)\n",
        "\n",
        "    if crossValidation:\n",
        "        X_train, X_test, y_train, y_test = train_test_split(\n",
        "            X_train, y_train, test_size=0.2, random_state=0)\n",
        "    else:\n",
        "        X_test, y_test = get_data_2(subject+1,False,path)\n",
        "\n",
        "    # prepare training data \t\n",
        "    N_tr,N_ch,_ =X_train.shape \n",
        "    X_train = X_train[:,:,t1:t2].reshape(N_tr,1,N_ch,T)\n",
        "    y_train_onehot = (y_train-1).astype(int)\n",
        "    y_train_onehot = to_categorical(y_train_onehot)\n",
        "    # prepare testing data \n",
        "    N_test,N_ch,_ =X_test.shape \n",
        "    X_test = X_test[:,:,t1:t2].reshape(N_test,1,N_ch,T)\n",
        "    y_test_onehot = (y_test-1).astype(int)\n",
        "    y_test_onehot = to_categorical(y_test_onehot)\t\n",
        "\n",
        "    return X_train,y_train,y_train_onehot,X_test,y_test,y_test_onehot"
      ]
    },
    {
      "cell_type": "markdown",
      "metadata": {
        "id": "28Wr8L0-x5-w"
      },
      "source": [
        "#EEGNet"
      ]
    },
    {
      "cell_type": "code",
      "execution_count": null,
      "metadata": {
        "id": "1q37twcQEyeL"
      },
      "outputs": [],
      "source": [
        "class Constrainedlinear(nn.Linear):\n",
        "    def _max_norm(self,w,max_val=0.25,eps=1e-8):\n",
        "        norm = w.norm(2, dim=1, keepdim=True)\n",
        "        desired = torch.clamp(norm, 0, max_val)\n",
        "        return w * (desired / (eps + norm))\n",
        "    def forward(self, input):\n",
        "        return F.linear(input, self._max_norm(self.weight),self.bias)\n",
        "\n",
        "\n",
        "class Constrainedlinear111(nn.Linear):\n",
        "    def _max_norm(self,w,max_val=0.5,eps=1e-8):\n",
        "        norm = w.norm(2, dim=1, keepdim=True)\n",
        "        desired = torch.clamp(norm, 0, max_val)\n",
        "        return w * (desired / (eps + norm))\n",
        "    def forward(self, input):\n",
        "        return F.linear(input, self._max_norm(self.weight),self.bias)\n",
        "\n",
        "\n",
        "class EEGNet(nn.Module):\n",
        "    def __init__(self, classes_num):\n",
        "        super(EEGNet, self).__init__()\n",
        "        self.numC=22\n",
        "\n",
        "        self.drop_out = 0.2\n",
        "        \n",
        "        self.block_1 = nn.Sequential(\n",
        "            # Pads the input tensor boundaries with zero\n",
        "            # left, right, up, bottom\n",
        "            nn.ZeroPad2d((15, 16, 0, 0)),\n",
        "            nn.Conv2d(\n",
        "                in_channels=1,          # input shape (1, C, T)\n",
        "                out_channels=8,         # num_filters\n",
        "                kernel_size=(1, 32),    # filter size\n",
        "                bias=False\n",
        "            ),                          # output shape (8, C, T)\n",
        "            nn.BatchNorm2d(8)           # output shape (8, C, T)\n",
        "        )\n",
        "        \n",
        "        # block 2 and 3 are implementations of Depthwise Convolution and Separable Convolution\n",
        "        self.block_2 = nn.Sequential(\n",
        "            nn.Conv2d(\n",
        "                in_channels=8,          # input shape (8, C, T)\n",
        "                out_channels=16,        # num_filters\n",
        "                kernel_size=(self.numC, 1),    # filter size\n",
        "                groups=8,\n",
        "                bias=False\n",
        "            ),                          # output shape (16, 1, T)\n",
        "            nn.BatchNorm2d(16),         # output shape (16, 1, T)\n",
        "            nn.ELU(),\n",
        "            nn.AvgPool2d((1, 8)),       # output shape (16, 1, T//4)\n",
        "            nn.Dropout(self.drop_out)   # output shape (16, 1, T//4)\n",
        "        )\n",
        "        \n",
        "        self.block_3 = nn.Sequential(\n",
        "            nn.ZeroPad2d((7, 8, 0, 0)),\n",
        "            nn.Conv2d(\n",
        "               in_channels=16,          # input shape (16, 1, T//4)\n",
        "               out_channels=16,         # num_filters\n",
        "               kernel_size=(1, 16),     # filter size\n",
        "               groups=16,\n",
        "               bias=False\n",
        "            ),                          # output shape (16, 1, T//4)\n",
        "            nn.Conv2d(\n",
        "                in_channels=16,         # input shape (16, 1, T//4)\n",
        "                out_channels=16,        # num_filters\n",
        "                kernel_size=(1, 1),     # filter size\n",
        "                bias=False\n",
        "            ),                          # output shape (16, 1, T//4)\n",
        "            nn.BatchNorm2d(16),         # output shape (16, 1, T//4)\n",
        "            nn.ELU(),\n",
        "            nn.AvgPool2d((1, 8)),       # output shape (16, 1, T//32)\n",
        "            nn.Dropout(self.drop_out)\n",
        "        )\n",
        "\n",
        "\n",
        "        self.preluip1 = nn.PReLU()\n",
        "        self.out = Constrainedlinear((16 * 15), classes_num)\n",
        "    \n",
        "    def forward(self, x):\n",
        "        x = self.block_1(x)\n",
        "        x = self.block_2(x)\n",
        "        x = self.block_3(x)\n",
        "        \n",
        "        x = x.view(x.size(0), -1)\n",
        "        x = self.out(x)\n",
        "        return F.log_softmax(x, dim=1) #x   # return x for visualization\n",
        "\n"
      ]
    },
    {
      "cell_type": "markdown",
      "metadata": {
        "id": "5D-sxuh8yI6y"
      },
      "source": [
        "#Load the raw data and assign the model"
      ]
    },
    {
      "cell_type": "code",
      "execution_count": null,
      "metadata": {
        "id": "CL-tE2VoFL_d"
      },
      "outputs": [],
      "source": [
        "def train(Subject_number):\n",
        "  #Prepare the raw feature data for training and testing#\n",
        "  #You can change the \"Subject_number\" (0-8 corresponding to B01-B09, respectively) to try training and testing between different subjects\n",
        "  BATCH_SIZE = 128\n",
        "  x_train,y_train,y_train_onehot,x_test,y_test,y_test_onehot = prepare_features('',Subject_number,False)\n",
        "  \n",
        "  total_x=np.vstack((x_train,x_test))\n",
        "  total_y=np.hstack((y_train,y_test))\n",
        "  index1=np.where(total_y == 1)[0]\n",
        "  index2=np.where(total_y == 2)[0]\n",
        "  index3=np.where(total_y == 3)[0]\n",
        "  index4=np.where(total_y == 4)[0]\n",
        "  print(total_y.shape)\n",
        "\n",
        "  hyperparameter=10\n",
        "\n",
        "  choice1=np.random.choice(index1,hyperparameter,replace=False)\n",
        "  choice2=np.random.choice(index2,hyperparameter,replace=False)\n",
        "  choice3=np.random.choice(index3,hyperparameter,replace=False)\n",
        "  choice4=np.random.choice(index4,hyperparameter,replace=False)\n",
        "\n",
        "\n",
        "  choice_total=np.hstack((choice1,choice2,choice3,choice4))\n",
        "  \n",
        "  target_x=total_x[choice_total]\n",
        "  target_y=total_y[choice_total]\n",
        "  xxxtest= np.delete(total_x, choice_total,0)\n",
        "  yyytest=np.delete(total_y, choice_total)\n",
        "\n",
        "\n",
        "\n",
        "\n",
        "\n",
        "\n",
        "  total_x_train=[]\n",
        "  total_y_train=[]\n",
        "  full_subjectnum=[0,1,2,3,4,5,6,7,8]\n",
        "  full_subjectnum.remove(Subject_number)\n",
        "  for train_subject in full_subjectnum:\n",
        "    x_train,y_train,y_train_onehot,x_test,y_test,y_test_onehot = prepare_features('',train_subject,False)\n",
        "\n",
        "    if len(total_x_train)==0:\n",
        "      total_x_train=x_train\n",
        "      total_y_train=y_train\n",
        "    else:\n",
        "      total_x_train=np.vstack((total_x_train,x_train))\n",
        "      total_y_train=np.hstack((total_y_train,y_train))\n",
        "    total_x_train=np.vstack((total_x_train,x_test))\n",
        "    total_y_train=np.hstack((total_y_train,y_test))\n",
        "  x_train=np.vstack((total_x_train,target_x))\n",
        "  y_train=np.hstack((total_y_train,target_y))\n",
        "\n",
        "\n",
        "  x_test=xxxtest\n",
        "  y_test=yyytest\n",
        "  print(x_train.shape)\n",
        "  print(x_test.shape)\n",
        "\n",
        "\n",
        "  x_train=torch.from_numpy(x_train)\n",
        "  y_train=torch.from_numpy(y_train-1)\n",
        "  x_test=torch.from_numpy(x_test)\n",
        "  y_test=torch.from_numpy(y_test-1)\n",
        "  x_train=x_train.float()\n",
        "  x_test=x_test.float()\n",
        "  y_train=y_train.long()\n",
        "  y_test=y_test.long()\n",
        "  train_dataset=Data.TensorDataset(x_train,y_train)\n",
        "  val_dataset=Data.TensorDataset(x_test,y_test)\n",
        "\n",
        "  \n",
        "\n",
        "  #Construct the training Loader\n",
        "  train_loader= Data.DataLoader(train_dataset, batch_size=BATCH_SIZE, shuffle=True, num_workers=2)\n",
        "  test_loader = Data.DataLoader(val_dataset, batch_size=BATCH_SIZE, shuffle=True, num_workers=2)\n",
        "  device = torch.device(\"cuda\" if torch.cuda.is_available() else \"cpu\")\n",
        "  eeg_net = EEGNet(classes_num=4).to(device)\n",
        "\n",
        "\n",
        "\n",
        "  nllloss = nn.NLLLoss().to(device) #CrossEntropyLoss = log_softmax + NLLLoss\n",
        "\n",
        "# optimzer4nn\n",
        "  optimizer4nn = optim.Adam(eeg_net.parameters(),lr=0.001)\n",
        "\n",
        "  #Define the number of epochs\n",
        "  EPOCH=500\n",
        "\n",
        "#Define the device\n",
        "  DEVICE = torch.device(\"cuda\" if torch.cuda.is_available() else \"cpu\")\n",
        "\n",
        "  train_lossitem=[]\n",
        "  test_lossitem=[]\n",
        "\n",
        "  for epoch in range(EPOCH):\n",
        "    loss_total=[]\n",
        "    test_loss_total=[]\n",
        "\n",
        "  #Update x_i using the gradient descent\n",
        "    for step, (b_x, b_y) in enumerate(train_loader):\n",
        "      b_x, b_y = b_x.to(DEVICE), b_y.to(DEVICE)\n",
        "      output = eeg_net(b_x)\n",
        "      loss = nllloss(output,b_y) \n",
        "      loss_total.append(loss.item())\n",
        "      optimizer4nn.zero_grad()\n",
        "      loss.backward()\n",
        "      optimizer4nn.step()\n",
        "    if epoch%2==0:\n",
        "      train_lossitem.append(np.mean(loss_total))\n",
        "\n",
        "    for step, (b_x, b_y) in enumerate(test_loader):\n",
        "      b_x, b_y = b_x.to(DEVICE), b_y.to(DEVICE)\n",
        "      output = eeg_net(b_x)\n",
        "      loss = nllloss(output,b_y) \n",
        "      test_loss_total.append(loss.item())\n",
        "    if epoch%2==0:\n",
        "\n",
        "      test_lossitem.append(np.mean(test_loss_total))\n",
        "\n",
        "\n",
        "    if epoch%100==0:\n",
        "      print('Epoch: ', epoch, '| train loss: %.4f' % (np.mean(loss_total)),len(loss_total))\n",
        " \n",
        "      eeg_net.eval()\n",
        "\n",
        "\n",
        "      test_out = eeg_net(x_test.to(DEVICE))\n",
        "      pred_y = torch.max(test_out.cpu(), 1)[1].data.numpy()\n",
        "      accuracy = float((pred_y == y_test.data.numpy()).astype(int).sum()) / float(y_test.size(0))\n",
        "      print(\"Subject \"+str(Subject_number+1)+' test accuracy: %.4f' % accuracy)\n",
        "      print('')\n",
        "      eeg_net.train()\n",
        "\n",
        "  return train_lossitem,test_lossitem\n"
      ]
    },
    {
      "cell_type": "markdown",
      "metadata": {
        "id": "ATmkrttS2d1D"
      },
      "source": [
        "#Training"
      ]
    },
    {
      "cell_type": "code",
      "execution_count": null,
      "metadata": {
        "colab": {
          "base_uri": "https://localhost:8080/"
        },
        "id": "Y7oG8ym7F1RF",
        "outputId": "91cde711-83c3-4706-bcc3-c6d9b94f3997"
      },
      "outputs": [
        {
          "output_type": "stream",
          "name": "stdout",
          "text": [
            "(554,)\n",
            "(4182, 1, 22, 1000)\n",
            "(514, 1, 22, 1000)\n",
            "Epoch:  0 | train loss: 1.3709 33\n",
            "Subject 1 test accuracy: 0.3482\n",
            "\n",
            "Epoch:  100 | train loss: 0.7372 33\n",
            "Subject 1 test accuracy: 0.7004\n",
            "\n",
            "Epoch:  200 | train loss: 0.6670 33\n",
            "Subject 1 test accuracy: 0.7140\n",
            "\n",
            "Epoch:  300 | train loss: 0.6307 33\n",
            "Subject 1 test accuracy: 0.7432\n",
            "\n",
            "Epoch:  400 | train loss: 0.5929 33\n",
            "Subject 1 test accuracy: 0.7374\n",
            "\n"
          ]
        }
      ],
      "source": [
        "Subject_number=0\n",
        "train_lossitem,test_lossitem=train(Subject_number)"
      ]
    },
    {
      "cell_type": "code",
      "source": [
        "print(train_lossitem)\n",
        "print(test_lossitem)"
      ],
      "metadata": {
        "id": "-a-3QJSZts_R",
        "colab": {
          "base_uri": "https://localhost:8080/"
        },
        "outputId": "771d35cb-a09f-4ec1-d58c-47028dbec46c"
      },
      "execution_count": null,
      "outputs": [
        {
          "output_type": "stream",
          "name": "stdout",
          "text": [
            "[1.3708823160691694, 1.2655361023816196, 1.2023339741157764, 1.151751615784385, 1.099466616457159, 1.058765810547453, 1.0207604982636191, 0.9985083702838782, 0.982788010077043, 0.9585227243828051, 0.9565384207349835, 0.9357095433003975, 0.927277254335808, 0.9114268494374824, 0.900260278672883, 0.8964734890244224, 0.887105436036081, 0.8769695090525078, 0.869256752910036, 0.8629036130327167, 0.8569768305980798, 0.8508534864945845, 0.8476952422748912, 0.8303388266852407, 0.8374481670784227, 0.8289132190473152, 0.8272480603420374, 0.8127754637689302, 0.8189054131507874, 0.8093513611591223, 0.8099648085507479, 0.8010025981700781, 0.8017637386466517, 0.7921409606933594, 0.7935316616838629, 0.7926189971692634, 0.7804791782841538, 0.7799635258587924, 0.7737393288901357, 0.7842045986291134, 0.7660735032775186, 0.7702492890935956, 0.765520433584849, 0.7654787934187687, 0.7626453403270606, 0.7576416748942751, 0.7534174738508282, 0.7470554583000414, 0.7399979016997598, 0.7432709318218809, 0.7371651150963523, 0.7467501904025222, 0.7352693821444656, 0.7199910337274725, 0.7326665629040111, 0.7283453851035147, 0.7340492118488658, 0.7230670127001676, 0.722602645556132, 0.7143531893238877, 0.7219238786986379, 0.709656197013277, 0.7131141424179077, 0.718010967428034, 0.7151292616670782, 0.7185135447617733, 0.703864001866543, 0.7046861160885204, 0.698791894045743, 0.7064064289584304, 0.6952447439685012, 0.7013826713417516, 0.687954306602478, 0.7005866133805477, 0.6909216317263517, 0.68783884156834, 0.6953243306188872, 0.6946215918569854, 0.6807069290768016, 0.6911484147563125, 0.6815228389971184, 0.6849862409360481, 0.6810032201535774, 0.6846177216732141, 0.6830824089772773, 0.6781182686487833, 0.6780953913023977, 0.6746699701655995, 0.6712941364808516, 0.6767800016836687, 0.6836221344543226, 0.6687172290050623, 0.6830680839943163, 0.665493490117969, 0.6614613984570359, 0.6637495051730763, 0.662262372898333, 0.6672522660457727, 0.6634630000952518, 0.6567245848251112, 0.6670248526515383, 0.6621302312070673, 0.666552540027734, 0.6639395988348759, 0.6521417209596345, 0.6703159231128115, 0.6532828013102213, 0.6544484649643754, 0.6487253380544258, 0.6581540414781282, 0.651170015335083, 0.6552352381475044, 0.6479089522000515, 0.6475610714970212, 0.6519865357514584, 0.64554050655076, 0.6514089703559875, 0.6469758152961731, 0.6502138909065363, 0.6435411138968035, 0.6580663305340391, 0.6495297406658982, 0.6492384961157134, 0.647421764604973, 0.6391748695662527, 0.6419338565884214, 0.6432210658535813, 0.648096117106351, 0.6326036615805193, 0.6424556609356042, 0.6397241498484756, 0.640324025443106, 0.6311754539157405, 0.6474799080328508, 0.6373999714851379, 0.6346120834350586, 0.6383661465211348, 0.6301279573729544, 0.6338970155426951, 0.6328748464584351, 0.6424120176922191, 0.637722519311038, 0.6323021451632181, 0.6327324473496639, 0.6328798189307704, 0.6224878845792828, 0.6316092176870867, 0.6274402864051588, 0.6219275566664609, 0.6401055093967554, 0.6307154604882905, 0.6336163210146355, 0.6221261810172688, 0.6234221386187004, 0.6220169582150199, 0.6217854944142428, 0.6219898796442783, 0.6194202746405746, 0.6242192857193224, 0.6311642365022139, 0.6172488810438098, 0.6185230396010659, 0.620756006602085, 0.6211346676855376, 0.6224268963842681, 0.618296509439295, 0.6241112974557009, 0.6237341535813881, 0.6128985954053474, 0.6296251921942739, 0.6167577920538007, 0.6140378000158252, 0.6148084420146365, 0.6300069888432821, 0.6077591803940859, 0.6226975177273606, 0.612053222728498, 0.61544859048092, 0.6120576876582522, 0.610521629001155, 0.6169480934287562, 0.6261818851485397, 0.6239094905781023, 0.6186577063618284, 0.6163149774074554, 0.6165818490765311, 0.6034913207545425, 0.6153571822426536, 0.6215483961683331, 0.6031764664433219, 0.6068828557476853, 0.6109624577291084, 0.6150554472749884, 0.6142275387590582, 0.5931635345473434, 0.6044408299706199, 0.6047706947182164, 0.6089179253939426, 0.6145862485423232, 0.6099816949078531, 0.5929479761557146, 0.6065393677263549, 0.6145145884065917, 0.6037669010234602, 0.6118827913746689, 0.601059823325186, 0.5990000078172395, 0.6004098626700315, 0.6048097267295375, 0.6037971106442538, 0.5978912196376107, 0.6064450045426687, 0.6039020238500653, 0.5985213536204714, 0.6041757048982562, 0.6000925546342676, 0.5997285806771481, 0.5937571119178425, 0.5980693074789915, 0.5960299824223374, 0.60657552968372, 0.6020826227737196, 0.6003564072377754, 0.6088796655337015, 0.5927731096744537, 0.6028623887986848, 0.6074275293133475, 0.5909916171521852, 0.6130394791111802, 0.6020131806532542, 0.6117436497500448, 0.5938904872446349, 0.6001452162410273, 0.6016730079145143, 0.6023038056763735, 0.601090717496294, 0.6027021651918237, 0.6019008963397054, 0.5980970967899669, 0.5905633975159038, 0.5961542906183185, 0.5982612326289668, 0.6001914965383934, 0.598887590747891, 0.5898739740704045, 0.6029305864464153, 0.5954400246793573, 0.5878087110591658, 0.5952001521081636, 0.5907026971831466]\n",
            "[1.3210550546646118, 1.2210476636886596, 1.229083490371704, 1.2039531946182251, 1.2272904872894288, 1.2754314661026, 1.075936734676361, 1.2805980682373046, 1.1330919981002807, 0.9584325551986694, 1.130908489227295, 1.1645531892776488, 0.9673370122909546, 0.9405251026153565, 1.0107704758644105, 1.0588237047195435, 0.9898858785629272, 0.8684363603591919, 0.9764312148094177, 1.1647411346435548, 1.0953513860702515, 1.0532253980636597, 0.9288532376289368, 0.914217495918274, 0.8720810174942016, 0.8153703331947326, 1.1148030757904053, 0.9244036197662353, 0.8101970553398132, 0.9412580251693725, 1.3570784330368042, 0.7973684966564178, 0.771384596824646, 0.826954436302185, 1.039629077911377, 1.1680799841880798, 0.9460917353630066, 0.7682332396507263, 1.199699330329895, 0.8695281386375427, 1.2498378157615662, 0.7058864295482635, 1.1302361965179444, 1.0412834286689758, 0.9089315533638, 0.7022759556770325, 0.8554264307022095, 0.9982493400573731, 1.2319508910179138, 0.7229499459266663, 0.7487487435340882, 1.2401657223701477, 0.753022426366806, 1.1494508028030395, 1.184577262401581, 0.8431996464729309, 0.6948639869689941, 0.7989662289619446, 0.9244576454162597, 1.0423170685768128, 0.86098313331604, 0.8490824699401855, 0.6826136946678162, 0.7444677829742432, 0.8059296488761902, 0.8178240418434143, 1.104431140422821, 0.8802642822265625, 0.7587803363800049, 0.6809692203998565, 0.702017742395401, 0.8382161021232605, 0.8791919708251953, 0.7155285239219665, 0.8916759014129638, 1.1284486413002015, 1.0582921385765076, 0.7116710424423218, 0.9414815545082093, 0.8016188979148865, 0.6844530403614044, 0.883128821849823, 0.9541082859039307, 0.8789468169212341, 0.6883564591407776, 0.7990518808364868, 0.9185872793197631, 0.7582427859306335, 0.7859681010246277, 0.7650718808174133, 0.8317664623260498, 0.8819205641746521, 0.922462797164917, 0.6946955800056458, 1.1225977420806885, 0.9274223446846008, 0.7090474963188171, 1.4303373456001283, 1.0138589501380921, 0.7588998198509216, 0.8173682570457459, 1.405092477798462, 0.7348582506179809, 1.0020005822181701, 0.6621750354766845, 0.8388437867164612, 0.6678066253662109, 0.8632092714309693, 0.6609632253646851, 1.6460251092910767, 0.8286584138870239, 0.7986113905906678, 0.8336791753768921, 0.7129383683204651, 0.7350846767425537, 0.961460542678833, 0.7347212195396423, 0.7766586661338806, 0.6745862811803818, 0.6675029277801514, 0.630141881108284, 0.7529062509536744, 0.9703138709068299, 0.7764029264450073, 0.6761482536792756, 0.814502227306366, 0.6410788655281067, 0.7043659806251525, 0.8682265877723694, 0.6535162210464478, 0.7076571226119995, 0.7922325968742371, 0.7270972013473511, 0.8233485460281372, 0.7678573131561279, 1.0093798518180848, 0.7568866372108459, 0.8782844424247742, 0.9871730804443359, 1.1654436826705932, 0.7793994069099426, 1.1835818648338319, 0.717111611366272, 0.6689454913139343, 1.0160222411155702, 1.0395599126815795, 0.9095178127288819, 0.730569314956665, 0.7572471976280213, 1.0257059454917907, 0.9555648565292358, 0.6743808805942535, 0.8017953038215637, 1.0259086608886718, 0.9241957783699035, 0.7055009782314301, 1.1386521339416504, 0.6977115571498871, 0.7526190161705018, 0.604560287296772, 1.1288119435310364, 0.961762523651123, 0.7407203435897827, 0.6866396546363831, 0.7540228724479675, 0.6918852984905243, 0.7849658370018006, 0.6215748250484466, 0.8216970920562744, 0.8437476634979248, 0.6605958104133606, 0.8699509024620056, 1.013745951652527, 1.0555371642112732, 0.6831891179084778, 0.9006006836891174, 1.1180247902870177, 0.8707242727279663, 0.6408532828092575, 0.8275437116622925, 0.6501925557851791, 1.0464627027511597, 0.7455059647560119, 0.8596570134162903, 0.7432751178741455, 0.6868655920028687, 0.9643527030944824, 0.8068419933319092, 0.6335660651326179, 1.0701595544815063, 0.7575048923492431, 0.6583179712295533, 0.9343994379043579, 1.1456121563911439, 0.7224406838417053, 0.6592666506767273, 0.7156530380249023, 1.2257546067237854, 0.6979234516620636, 0.8366596817970275, 0.7357503056526185, 0.6543693691492081, 0.747499680519104, 0.8767570376396179, 0.61327740624547, 1.2971567511558533, 0.9438496828079224, 0.7451443433761596, 0.6954064428806305, 0.7305042028427124, 1.0034566044807434, 0.6352852314710618, 0.825390350818634, 0.9589948296546936, 0.9127911925315857, 0.8558848738670349, 0.7041820406913757, 0.6836902678012848, 0.6253099694848061, 0.8846877217292786, 0.7940368294715882, 0.8427579641342163, 0.9433705687522889, 0.6623587191104889, 0.851442301273346, 0.8523405313491821, 0.8857103705406189, 0.6497788071632385, 0.8494315147399902, 1.0255327939987182, 0.703919404745102, 0.7064387917518615, 0.6903138220310211, 0.7779609084129333, 0.7000927865505219, 0.7980146527290344, 0.9606682777404785, 0.679360955953598, 0.8079534292221069, 0.694306468963623, 1.0533342123031617, 0.8077644467353821, 0.6756684422492981, 0.964160704612732, 0.8040843486785889, 0.629594749212265, 0.6767185688018799, 0.6967385470867157, 0.8372419595718383, 1.0454867243766786]\n"
          ]
        }
      ]
    },
    {
      "cell_type": "markdown",
      "source": [
        "# Plot"
      ],
      "metadata": {
        "id": "RuyWygUe8fYj"
      }
    },
    {
      "cell_type": "code",
      "source": [
        "# importing package\n",
        "import matplotlib.pyplot as plt\n",
        "import matplotlib\n",
        "from matplotlib.pyplot import *\n",
        "\n",
        "plt.rcParams.update({'font.family':'Verdana'})\n",
        "  \n",
        "# create data\n",
        "x=list(range(len(train_lossitem)))\n",
        "  \n",
        "# plot lines\n",
        "plt.plot(x, train_lossitem, label = \"Training loss\",color='black')\n",
        "plt.plot(x, test_lossitem, label = \"Testing loss\",color='#F47A26')\n",
        "plt.savefig('myimage.jpg', format='jpg', dpi=1200)\n",
        "\n",
        "# plt.legend()\n",
        "plt.show()"
      ],
      "metadata": {
        "colab": {
          "base_uri": "https://localhost:8080/",
          "height": 282
        },
        "id": "aui28i-dsqDB",
        "outputId": "b9f8fac8-9624-42bf-cce6-45c963bb4f55"
      },
      "execution_count": null,
      "outputs": [
        {
          "output_type": "stream",
          "name": "stderr",
          "text": [
            "findfont: Font family ['Verdana'] not found. Falling back to DejaVu Sans.\n"
          ]
        },
        {
          "output_type": "display_data",
          "data": {
            "text/plain": [
              "<Figure size 432x288 with 1 Axes>"
            ],
            "image/png": "[encoded data removed]"
          },
          "metadata": {
            "needs_background": "light"
          }
        }
      ]
    },
    {
      "cell_type": "code",
      "source": [
        ""
      ],
      "metadata": {
        "id": "_tFsVCrPwDwC"
      },
      "execution_count": null,
      "outputs": []
    }
  ],
  "metadata": {
    "accelerator": "GPU",
    "colab": {
      "collapsed_sections": [],
      "machine_shape": "hm",
      "name": "Supervised_method.ipynb",
      "provenance": []
    },
    "kernelspec": {
      "display_name": "Python 3",
      "name": "python3"
    },
    "language_info": {
      "name": "python"
    }
  },
  "nbformat": 4,
  "nbformat_minor": 0
}