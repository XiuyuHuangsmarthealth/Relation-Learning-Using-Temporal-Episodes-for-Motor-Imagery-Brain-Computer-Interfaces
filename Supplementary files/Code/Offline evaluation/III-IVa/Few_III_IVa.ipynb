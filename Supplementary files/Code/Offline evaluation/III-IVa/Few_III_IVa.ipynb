{
  "nbformat": 4,
  "nbformat_minor": 0,
  "metadata": {
    "colab": {
      "name": "Few_III_IVa.ipynb",
      "provenance": [],
      "collapsed_sections": []
    },
    "kernelspec": {
      "name": "python3",
      "display_name": "Python 3"
    },
    "language_info": {
      "name": "python"
    },
    "accelerator": "GPU"
  },
  "cells": [
    {
      "cell_type": "markdown",
      "source": [
        "# Instruction"
      ],
      "metadata": {
        "id": "sZLizPzFHJ58"
      }
    },
    {
      "cell_type": "markdown",
      "source": [
        "**Run each cell one by one**"
      ],
      "metadata": {
        "id": "SlKKGDYwHJ3Z"
      }
    },
    {
      "cell_type": "markdown",
      "source": [
        "# Read data"
      ],
      "metadata": {
        "id": "AyK0xDOGfYyc"
      }
    },
    {
      "cell_type": "code",
      "execution_count": 1,
      "metadata": {
        "colab": {
          "base_uri": "https://localhost:8080/"
        },
        "id": "lGPXf8I9caaI",
        "outputId": "77d8d178-7763-4ec0-ce1a-34637b8780be"
      },
      "outputs": [
        {
          "output_type": "stream",
          "name": "stdout",
          "text": [
            "Mounted at /content/drive\n",
            "Looking in indexes: https://pypi.org/simple, https://us-python.pkg.dev/colab-wheels/public/simple/\n",
            "Collecting mne\n",
            "  Downloading mne-1.0.3-py3-none-any.whl (7.5 MB)\n",
            "\u001b[K     |████████████████████████████████| 7.5 MB 5.3 MB/s \n",
            "\u001b[?25hRequirement already satisfied: scipy>=1.1.0 in /usr/local/lib/python3.7/dist-packages (from mne) (1.4.1)\n",
            "Requirement already satisfied: matplotlib in /usr/local/lib/python3.7/dist-packages (from mne) (3.2.2)\n",
            "Requirement already satisfied: decorator in /usr/local/lib/python3.7/dist-packages (from mne) (4.4.2)\n",
            "Requirement already satisfied: packaging in /usr/local/lib/python3.7/dist-packages (from mne) (21.3)\n",
            "Requirement already satisfied: jinja2 in /usr/local/lib/python3.7/dist-packages (from mne) (2.11.3)\n",
            "Requirement already satisfied: numpy>=1.15.4 in /usr/local/lib/python3.7/dist-packages (from mne) (1.21.6)\n",
            "Requirement already satisfied: tqdm in /usr/local/lib/python3.7/dist-packages (from mne) (4.64.0)\n",
            "Requirement already satisfied: pooch>=1.5 in /usr/local/lib/python3.7/dist-packages (from mne) (1.6.0)\n",
            "Requirement already satisfied: appdirs>=1.3.0 in /usr/local/lib/python3.7/dist-packages (from pooch>=1.5->mne) (1.4.4)\n",
            "Requirement already satisfied: requests>=2.19.0 in /usr/local/lib/python3.7/dist-packages (from pooch>=1.5->mne) (2.23.0)\n",
            "Requirement already satisfied: pyparsing!=3.0.5,>=2.0.2 in /usr/local/lib/python3.7/dist-packages (from packaging->mne) (3.0.9)\n",
            "Requirement already satisfied: chardet<4,>=3.0.2 in /usr/local/lib/python3.7/dist-packages (from requests>=2.19.0->pooch>=1.5->mne) (3.0.4)\n",
            "Requirement already satisfied: idna<3,>=2.5 in /usr/local/lib/python3.7/dist-packages (from requests>=2.19.0->pooch>=1.5->mne) (2.10)\n",
            "Requirement already satisfied: certifi>=2017.4.17 in /usr/local/lib/python3.7/dist-packages (from requests>=2.19.0->pooch>=1.5->mne) (2022.6.15)\n",
            "Requirement already satisfied: urllib3!=1.25.0,!=1.25.1,<1.26,>=1.21.1 in /usr/local/lib/python3.7/dist-packages (from requests>=2.19.0->pooch>=1.5->mne) (1.24.3)\n",
            "Requirement already satisfied: MarkupSafe>=0.23 in /usr/local/lib/python3.7/dist-packages (from jinja2->mne) (2.0.1)\n",
            "Requirement already satisfied: kiwisolver>=1.0.1 in /usr/local/lib/python3.7/dist-packages (from matplotlib->mne) (1.4.3)\n",
            "Requirement already satisfied: python-dateutil>=2.1 in /usr/local/lib/python3.7/dist-packages (from matplotlib->mne) (2.8.2)\n",
            "Requirement already satisfied: cycler>=0.10 in /usr/local/lib/python3.7/dist-packages (from matplotlib->mne) (0.11.0)\n",
            "Requirement already satisfied: typing-extensions in /usr/local/lib/python3.7/dist-packages (from kiwisolver>=1.0.1->matplotlib->mne) (4.1.1)\n",
            "Requirement already satisfied: six>=1.5 in /usr/local/lib/python3.7/dist-packages (from python-dateutil>=2.1->matplotlib->mne) (1.15.0)\n",
            "Installing collected packages: mne\n",
            "Successfully installed mne-1.0.3\n"
          ]
        }
      ],
      "source": [
        "from google.colab import drive\n",
        "drive.mount('/content/drive')\n",
        "\n",
        "!pip install mne\n",
        "\n",
        "\n",
        "\n",
        "import numpy as np\n",
        "import scipy.io as sio\n",
        "import mne\n",
        "def indexget(total,select):\n",
        "  return [i for i, e in enumerate(total) if e in select]\n",
        "\n",
        "\n",
        "\n",
        "def inputmat(fp1,fp2,fp3):\n",
        "    \"\"\"load .mat file and return m as a dict\"\"\"\n",
        "    mat = sio.loadmat(fp1, squeeze_me=True)\n",
        "    label_mat=sio.loadmat(fp2, squeeze_me=True)\n",
        "    m = {}  # create a dict\n",
        "\n",
        "    # Numpy array of size channel_num * points.\n",
        "    select_channel=fp3\n",
        "    channelindex= indexget(mat['nfo']['clab'][True][0],select_channel)\n",
        "    m['ch_names'] = mat['nfo']['clab'][True][0][channelindex]\n",
        "    \n",
        "\n",
        "\n",
        "    m['data'] = mat['cnt'].T[channelindex]\n",
        "    m['freq'] = mat['nfo']['fs'][True][0]  # Sampling frequency\n",
        "\n",
        "    # channel names are necessary information for creating a rawArray.\n",
        "\n",
        "\n",
        "    # Position of channels\n",
        "    m['electrode_x'] = mat['nfo']['xpos'][True][0]\n",
        "    m['electrode_y'] = mat['nfo']['ypos'][True][0]\n",
        "\n",
        "    # find trials and its data\n",
        "    m['cue'] = mat['mrk']['pos'][True][0]  # time of cue\n",
        "    m['labels'] = label_mat['true_y']  \n",
        "    # m['labels'] = np.nan_to_num(mat['mrk']['y'][True][0]).astype(int)  # convert NaN to 0\n",
        "    m['test_idx'] = len(label_mat['test_idx'])\n",
        "    m['n_trials'] = len(m['labels'])  # Number of the total useful trials\n",
        "    return m\n",
        "\n",
        "\n",
        "def creatEventsArray(fp1,fp2,fp3):\n",
        "    \"\"\"Create events array. The second column default to zero.\"\"\"\n",
        "    m = inputmat(fp1,fp2,fp3)\n",
        "    events = np.zeros((m['n_trials'], 3), int)\n",
        "    events[:, 0] = m['cue'][:m['n_trials']]  # The first column is the sample number of the event.\n",
        "    events[:, 2] = m['labels'][:m['n_trials']]  # The third column is the new event value.\n",
        "    return events, m['labels']\n",
        "\n",
        "\n",
        "def creatRawArray(fp1,fp2,fp3):\n",
        "    \"\"\"Create a mne.io.RawArray object, data: array, shape (n_channels, n_times)\"\"\"\n",
        "    m = inputmat(fp1,fp2,fp3)\n",
        "    ch_names = m['ch_names'].tolist()\n",
        "    info = mne.create_info(ch_names, m['freq'], 'eeg')  # Create info for raw\n",
        "    raw = mne.io.RawArray(m['data'], info, first_samp=0, copy='auto', verbose=None)\n",
        "    return raw"
      ]
    },
    {
      "cell_type": "code",
      "source": [
        "print(__doc__)\n",
        "\n",
        "fp = {\n",
        "    'aa': '/content/drive/MyDrive/fewshotonlineBCI/CompetitionIII_IVa/data_set_IVa_aa.mat',\n",
        "    'al': '/content/drive/MyDrive/fewshotonlineBCI/CompetitionIII_IVa/data_set_IVa_al.mat',\n",
        "    'av': '/content/drive/MyDrive/fewshotonlineBCI/CompetitionIII_IVa/data_set_IVa_av.mat',\n",
        "    'aw': '/content/drive/MyDrive/fewshotonlineBCI/CompetitionIII_IVa/data_set_IVa_aw.mat',\n",
        "    'ay': '/content/drive/MyDrive/fewshotonlineBCI/CompetitionIII_IVa/data_set_IVa_ay.mat',\n",
        "}\n",
        "\n",
        "\n",
        "fplabel={\n",
        "    'aa': '/content/drive/MyDrive/fewshotonlineBCI/CompetitionIII_IVa/true_labels_aa.mat',\n",
        "    'al': '/content/drive/MyDrive/fewshotonlineBCI/CompetitionIII_IVa/true_labels_al.mat',\n",
        "    'av': '/content/drive/MyDrive/fewshotonlineBCI/CompetitionIII_IVa/true_labels_av.mat',\n",
        "    'aw': '/content/drive/MyDrive/fewshotonlineBCI/CompetitionIII_IVa/true_labels_aw.mat',\n",
        "    'ay': '/content/drive/MyDrive/fewshotonlineBCI/CompetitionIII_IVa/true_labels_ay.mat',\n",
        "\n",
        "}\n",
        "\n",
        "channel_set=['C1',  'C3',  'Cz',  'C2',  'C4',  'CFC3',  'CFC4','CFC5',  'CFC6',  'CCP3', \n",
        "             'CCP4',  'CCP5',  'CCP6',  'T7',  'T8',  'P3',  'Pz',  'P4']\n",
        "pick_chan = {\n",
        "    'aa':  channel_set,\n",
        "    'al':  channel_set,\n",
        "    'av':  channel_set,\n",
        "    'aw':  channel_set,\n",
        "    'ay':  channel_set,\n",
        "\n",
        "}\n",
        "\n",
        "low_freq, high_freq = 7., 30.\n",
        "tmin, tmax = 0., 3.5\n",
        "# event_id\n",
        "event_id = {'right': 1, 'foot': 2}"
      ],
      "metadata": {
        "colab": {
          "base_uri": "https://localhost:8080/"
        },
        "id": "K1P_JhIUgIDm",
        "outputId": "e00dffc6-780d-4c47-a592-0eef1a0305e6"
      },
      "execution_count": 2,
      "outputs": [
        {
          "output_type": "stream",
          "name": "stdout",
          "text": [
            "Automatically created module for IPython interactive environment\n"
          ]
        }
      ]
    },
    {
      "cell_type": "markdown",
      "source": [
        "# Processing the data"
      ],
      "metadata": {
        "id": "zf-MKNk_H6Y7"
      }
    },
    {
      "cell_type": "code",
      "source": [
        "from sklearn.model_selection import ShuffleSplit, cross_val_score\n",
        "from sklearn.discriminant_analysis import LinearDiscriminantAnalysis\n",
        "from sklearn.pipeline import Pipeline\n",
        "\n",
        "from mne.decoding import CSP\n",
        "from mne.channels import read_layout\n",
        "\n",
        "def cal_acc(pred,real):\n",
        "  return [1 if pred[j]==real[j] else 0 for j in range(len(real))]\n",
        "\n",
        "total_length=280\n",
        "train_num=10\n",
        "test_num=10\n",
        "\n",
        "\n",
        "dic={}\n",
        "for f,fla,cs in zip(fp,fplabel,pick_chan):\n",
        "    mat_dic=inputmat(fp[f],fplabel[fla],pick_chan[cs])\n",
        "    raw = creatRawArray(fp[f],fplabel[fla],pick_chan[cs])\n",
        "    events, labels = creatEventsArray(fp[f],fplabel[fla],pick_chan[cs])\n",
        "\n",
        "\n",
        "    # Apply band-pass filter\n",
        "    raw.filter(low_freq, high_freq, fir_design='firwin', skip_by_annotation='edge')\n",
        "\n",
        "    # event_train = eventsTrain(fp[f])\n",
        "    epochs = mne.Epochs(raw, events=events, event_id=event_id, tmin=tmin, tmax=tmax, baseline=None, preload=True,\n",
        "                        verbose=False)\n",
        "\n",
        "    epochs_train = epochs.copy().crop(tmin=0.5, tmax=2.5)\n",
        "    labels = epochs.events[:, -1]\n",
        "\n",
        "    index1=np.where(labels == 1)[0]\n",
        "    index2=np.where(labels == 2)[0]\n",
        "    choice1=np.random.choice(index1,train_num,replace=False)\n",
        "    choice2=np.random.choice(index2,train_num,replace=False)\n",
        "    choice_total=np.hstack((choice1,choice2))\n",
        "\n",
        "\n",
        "    # # Define a monte-carlo cross-validation generator (reduce variance):\n",
        "    epochs_data= epochs_train.get_data()\n",
        "    test_index=np.delete(list(range(total_length)),choice_total)\n",
        "    train_x,train_y=epochs_data[choice_total],labels[choice_total]\n",
        "    test_x,test_y=epochs_data[test_index],labels[test_index]\n",
        "    temp_xy=[train_x,train_y,test_x,test_y]\n",
        "    dic[f]=temp_xy"
      ],
      "metadata": {
        "colab": {
          "base_uri": "https://localhost:8080/"
        },
        "id": "dmo3d6IbgLqy",
        "outputId": "8474e9b1-6373-4832-e841-f5d6204780a4"
      },
      "execution_count": 3,
      "outputs": [
        {
          "output_type": "stream",
          "name": "stdout",
          "text": [
            "Creating RawArray with float64 data, n_channels=18, n_times=298458\n",
            "    Range : 0 ... 298457 =      0.000 ...  2984.570 secs\n",
            "Ready.\n",
            "Filtering raw data in 1 contiguous segment\n",
            "Setting up band-pass filter from 7 - 30 Hz\n",
            "\n",
            "FIR filter parameters\n",
            "---------------------\n",
            "Designing a one-pass, zero-phase, non-causal bandpass filter:\n",
            "- Windowed time-domain design (firwin) method\n",
            "- Hamming window with 0.0194 passband ripple and 53 dB stopband attenuation\n",
            "- Lower passband edge: 7.00\n",
            "- Lower transition bandwidth: 2.00 Hz (-6 dB cutoff frequency: 6.00 Hz)\n",
            "- Upper passband edge: 30.00 Hz\n",
            "- Upper transition bandwidth: 7.50 Hz (-6 dB cutoff frequency: 33.75 Hz)\n",
            "- Filter length: 165 samples (1.650 sec)\n",
            "\n",
            "Creating RawArray with float64 data, n_channels=18, n_times=283574\n",
            "    Range : 0 ... 283573 =      0.000 ...  2835.730 secs\n",
            "Ready.\n",
            "Filtering raw data in 1 contiguous segment\n",
            "Setting up band-pass filter from 7 - 30 Hz\n",
            "\n",
            "FIR filter parameters\n",
            "---------------------\n",
            "Designing a one-pass, zero-phase, non-causal bandpass filter:\n",
            "- Windowed time-domain design (firwin) method\n",
            "- Hamming window with 0.0194 passband ripple and 53 dB stopband attenuation\n",
            "- Lower passband edge: 7.00\n",
            "- Lower transition bandwidth: 2.00 Hz (-6 dB cutoff frequency: 6.00 Hz)\n",
            "- Upper passband edge: 30.00 Hz\n",
            "- Upper transition bandwidth: 7.50 Hz (-6 dB cutoff frequency: 33.75 Hz)\n",
            "- Filter length: 165 samples (1.650 sec)\n",
            "\n",
            "Creating RawArray with float64 data, n_channels=18, n_times=283042\n",
            "    Range : 0 ... 283041 =      0.000 ...  2830.410 secs\n",
            "Ready.\n",
            "Filtering raw data in 1 contiguous segment\n",
            "Setting up band-pass filter from 7 - 30 Hz\n",
            "\n",
            "FIR filter parameters\n",
            "---------------------\n",
            "Designing a one-pass, zero-phase, non-causal bandpass filter:\n",
            "- Windowed time-domain design (firwin) method\n",
            "- Hamming window with 0.0194 passband ripple and 53 dB stopband attenuation\n",
            "- Lower passband edge: 7.00\n",
            "- Lower transition bandwidth: 2.00 Hz (-6 dB cutoff frequency: 6.00 Hz)\n",
            "- Upper passband edge: 30.00 Hz\n",
            "- Upper transition bandwidth: 7.50 Hz (-6 dB cutoff frequency: 33.75 Hz)\n",
            "- Filter length: 165 samples (1.650 sec)\n",
            "\n",
            "Creating RawArray with float64 data, n_channels=18, n_times=282838\n",
            "    Range : 0 ... 282837 =      0.000 ...  2828.370 secs\n",
            "Ready.\n",
            "Filtering raw data in 1 contiguous segment\n",
            "Setting up band-pass filter from 7 - 30 Hz\n",
            "\n",
            "FIR filter parameters\n",
            "---------------------\n",
            "Designing a one-pass, zero-phase, non-causal bandpass filter:\n",
            "- Windowed time-domain design (firwin) method\n",
            "- Hamming window with 0.0194 passband ripple and 53 dB stopband attenuation\n",
            "- Lower passband edge: 7.00\n",
            "- Lower transition bandwidth: 2.00 Hz (-6 dB cutoff frequency: 6.00 Hz)\n",
            "- Upper passband edge: 30.00 Hz\n",
            "- Upper transition bandwidth: 7.50 Hz (-6 dB cutoff frequency: 33.75 Hz)\n",
            "- Filter length: 165 samples (1.650 sec)\n",
            "\n",
            "Creating RawArray with float64 data, n_channels=18, n_times=283562\n",
            "    Range : 0 ... 283561 =      0.000 ...  2835.610 secs\n",
            "Ready.\n",
            "Filtering raw data in 1 contiguous segment\n",
            "Setting up band-pass filter from 7 - 30 Hz\n",
            "\n",
            "FIR filter parameters\n",
            "---------------------\n",
            "Designing a one-pass, zero-phase, non-causal bandpass filter:\n",
            "- Windowed time-domain design (firwin) method\n",
            "- Hamming window with 0.0194 passband ripple and 53 dB stopband attenuation\n",
            "- Lower passband edge: 7.00\n",
            "- Lower transition bandwidth: 2.00 Hz (-6 dB cutoff frequency: 6.00 Hz)\n",
            "- Upper passband edge: 30.00 Hz\n",
            "- Upper transition bandwidth: 7.50 Hz (-6 dB cutoff frequency: 33.75 Hz)\n",
            "- Filter length: 165 samples (1.650 sec)\n",
            "\n"
          ]
        }
      ]
    },
    {
      "cell_type": "code",
      "source": [
        "for i in dic:\n",
        "  print(dic[i][0].shape,dic[i][1].shape,dic[i][2].shape,dic[i][3].shape)\n"
      ],
      "metadata": {
        "colab": {
          "base_uri": "https://localhost:8080/"
        },
        "id": "5606i0XrhXW0",
        "outputId": "7ad26f93-6c7f-4c1d-d93e-d1aeb28c7604"
      },
      "execution_count": 4,
      "outputs": [
        {
          "output_type": "stream",
          "name": "stdout",
          "text": [
            "(20, 18, 201) (20,) (260, 18, 201) (260,)\n",
            "(20, 18, 201) (20,) (260, 18, 201) (260,)\n",
            "(20, 18, 201) (20,) (260, 18, 201) (260,)\n",
            "(20, 18, 201) (20,) (260, 18, 201) (260,)\n",
            "(20, 18, 201) (20,) (260, 18, 201) (260,)\n"
          ]
        }
      ]
    },
    {
      "cell_type": "markdown",
      "source": [
        "# Network"
      ],
      "metadata": {
        "id": "IIcoaWYth4DX"
      }
    },
    {
      "cell_type": "code",
      "source": [
        "import numpy as np\n",
        "import scipy.io as sio\n",
        "from tensorflow.keras.utils import to_categorical\n",
        "import random\n",
        "import torch\n",
        "import torch.nn as nn\n",
        "import torch.optim as optim\n",
        "from torch.autograd.function import Function\n",
        "from torch.autograd import Variable\n",
        "import torch.nn.functional as F\n",
        "from torch.utils.data import Dataset,DataLoader,TensorDataset\n",
        "from sklearn.model_selection import train_test_split\n",
        "import matplotlib.pyplot as plot\n",
        "from sklearn.decomposition import PCA\n",
        "import torch.utils.data as Data\n",
        "from sklearn.preprocessing import StandardScaler\n",
        "import matplotlib.pyplot as plt\n",
        "from torchvision import models\n",
        "from torchsummary import summary\n",
        "import torch.optim.lr_scheduler as lr_scheduler\n"
      ],
      "metadata": {
        "id": "LZk2SFqmjPVl"
      },
      "execution_count": 5,
      "outputs": []
    },
    {
      "cell_type": "code",
      "source": [
        "class Constrainedlinear(nn.Linear):\n",
        "    def _max_norm(self,w,max_val=0.25,eps=1e-8):\n",
        "        norm = w.norm(2, dim=1, keepdim=True)\n",
        "        desired = torch.clamp(norm, 0, max_val)\n",
        "        return w * (desired / (eps + norm))\n",
        "    def forward(self, input):\n",
        "        return F.linear(input, self._max_norm(self.weight),self.bias)\n",
        "\n",
        "\n",
        "class Constrainedlinear111(nn.Linear):\n",
        "    def _max_norm(self,w,max_val=0.5,eps=1e-8):\n",
        "        norm = w.norm(2, dim=1, keepdim=True)\n",
        "        desired = torch.clamp(norm, 0, max_val)\n",
        "        return w * (desired / (eps + norm))\n",
        "    def forward(self, input):\n",
        "        return F.linear(input, self._max_norm(self.weight),self.bias)\n",
        "\n",
        "\n",
        "class EEGNet(nn.Module):\n",
        "    def __init__(self, classes_num):\n",
        "        super(EEGNet, self).__init__()\n",
        "        self.numC=18\n",
        "\n",
        "        self.drop_out = 0.2\n",
        "        \n",
        "        self.block_1 = nn.Sequential(\n",
        "            # Pads the input tensor boundaries with zero\n",
        "            # left, right, up, bottom\n",
        "            nn.ZeroPad2d((15, 16, 0, 0)),\n",
        "            nn.Conv2d(\n",
        "                in_channels=1,          # input shape (1, C, T)\n",
        "                out_channels=8,         # num_filters\n",
        "                kernel_size=(1, 32),    # filter size\n",
        "                bias=False\n",
        "            ),                          # output shape (8, C, T)\n",
        "            nn.BatchNorm2d(8)           # output shape (8, C, T)\n",
        "        )\n",
        "        \n",
        "        # block 2 and 3 are implementations of Depthwise Convolution and Separable Convolution\n",
        "        self.block_2 = nn.Sequential(\n",
        "            nn.Conv2d(\n",
        "                in_channels=8,          # input shape (8, C, T)\n",
        "                out_channels=16,        # num_filters\n",
        "                kernel_size=(self.numC, 1),    # filter size\n",
        "                groups=8,\n",
        "                bias=False\n",
        "            ),                          # output shape (16, 1, T)\n",
        "            nn.BatchNorm2d(16),         # output shape (16, 1, T)\n",
        "            nn.ELU(),\n",
        "            nn.AvgPool2d((1, 8)),       # output shape (16, 1, T//4)\n",
        "            nn.Dropout(self.drop_out)   # output shape (16, 1, T//4)\n",
        "        )\n",
        "        \n",
        "        self.block_3 = nn.Sequential(\n",
        "            nn.ZeroPad2d((7, 8, 0, 0)),\n",
        "            nn.Conv2d(\n",
        "               in_channels=16,          # input shape (16, 1, T//4)\n",
        "               out_channels=16,         # num_filters\n",
        "               kernel_size=(1, 16),     # filter size\n",
        "               groups=16,\n",
        "               bias=False\n",
        "            ),                          # output shape (16, 1, T//4)\n",
        "            nn.Conv2d(\n",
        "                in_channels=16,         # input shape (16, 1, T//4)\n",
        "                out_channels=16,        # num_filters\n",
        "                kernel_size=(1, 1),     # filter size\n",
        "                bias=False\n",
        "            ),                          # output shape (16, 1, T//4)\n",
        "            nn.BatchNorm2d(16),         # output shape (16, 1, T//4)\n",
        "            nn.ELU(),\n",
        "            nn.AvgPool2d((1, 8)),       # output shape (16, 1, T//32)\n",
        "            nn.Dropout(self.drop_out)\n",
        "        )\n",
        "\n",
        "\n",
        "        self.preluip1 = nn.PReLU()\n",
        "        self.out = Constrainedlinear((48), classes_num)\n",
        "    \n",
        "    def forward(self, x):\n",
        "        x = self.block_1(x)\n",
        "        x = self.block_2(x)\n",
        "        x = self.block_3(x)\n",
        "        \n",
        "        x = x.view(x.size(0), -1)\n",
        "        x = self.out(x)\n",
        "        return F.log_softmax(x, dim=1) #x   # return x for visualization\n",
        "\n"
      ],
      "metadata": {
        "id": "HNwztd3Ehp2B"
      },
      "execution_count": 6,
      "outputs": []
    },
    {
      "cell_type": "markdown",
      "source": [
        "# Training"
      ],
      "metadata": {
        "id": "dLOl-v6VjTKm"
      }
    },
    {
      "cell_type": "code",
      "source": [
        "def train(subject_string):\n",
        "  #Prepare the raw feature data for training and testing#\n",
        "  #You can change the \"Subject_number\" (0-8 corresponding to B01-B09, respectively) to try training and testing between different subjects\n",
        "  dataset=dic[subject_string]\n",
        "\n",
        "  x_train=dataset[0].reshape(dataset[0].shape[0],1,dataset[0].shape[1],-1)\n",
        "  y_train=dataset[1]\n",
        "  x_test= dataset[2].reshape(dataset[2].shape[0],1,dataset[2].shape[1],-1)\n",
        "  y_test=dataset[3]\n",
        "\n",
        "\n",
        "\n",
        "\n",
        "\n",
        "  x_train=torch.from_numpy(x_train)\n",
        "  y_train=torch.from_numpy(y_train-1)\n",
        "  x_test=torch.from_numpy(x_test)\n",
        "  y_test=torch.from_numpy(y_test-1)\n",
        "  x_train=x_train.float()\n",
        "  x_test=x_test.float()\n",
        "  y_train=y_train.long()\n",
        "  y_test=y_test.long()\n",
        "  train_dataset=Data.TensorDataset(x_train,y_train)\n",
        "  val_dataset=Data.TensorDataset(x_test,y_test)\n",
        "\n",
        "  BATCH_SIZE=10\n",
        "  #Construct the training Loader\n",
        "  train_loader= Data.DataLoader(train_dataset, batch_size=BATCH_SIZE, shuffle=True, num_workers=2)\n",
        "  test_loader = Data.DataLoader(val_dataset, batch_size=BATCH_SIZE, shuffle=True, num_workers=2)\n",
        "\n",
        "\n",
        "  device = torch.device(\"cuda\" if torch.cuda.is_available() else \"cpu\")\n",
        "  eeg_net = EEGNet(classes_num=2).to(device)\n",
        "\n",
        "\n",
        "  nllloss = nn.NLLLoss().to(device) #CrossEntropyLoss = log_softmax + NLLLoss\n",
        "\n",
        "# optimzer4nn\n",
        "  optimizer4nn = optim.Adam(eeg_net.parameters(),lr=0.001)\n",
        "\n",
        "  #Define the number of epochs\n",
        "  EPOCH=100\n",
        "\n",
        "#Define the device\n",
        "  DEVICE = torch.device(\"cuda\" if torch.cuda.is_available() else \"cpu\")\n",
        "\n",
        "  for epoch in range(EPOCH):\n",
        "    loss_total=[]\n",
        "\n",
        "  #Update x_i using the gradient descent\n",
        "    for step, (b_x, b_y) in enumerate(train_loader):\n",
        "      b_x, b_y = b_x.to(DEVICE), b_y.to(DEVICE)\n",
        "      output = eeg_net(b_x)\n",
        "      loss = nllloss(output,b_y) \n",
        "      loss_total.append(loss.item())\n",
        "      optimizer4nn.zero_grad()\n",
        "      loss.backward()\n",
        "      optimizer4nn.step()\n",
        "    if (epoch+1)%50==0:\n",
        "      print('Epoch: ', epoch, '| train loss: %.4f' % (np.mean(loss_total)),len(y_test))\n",
        " \n",
        "      eeg_net.eval()\n",
        "      train_out=eeg_net(x_train.to(DEVICE))\n",
        "      trpre_y = torch.max(train_out.cpu(), 1)[1].data.numpy()\n",
        "      tra_acc = float((trpre_y == y_train.data.numpy()).astype(int).sum()) / float(y_train.size(0))\n",
        "      print(\"Subject \"+str(subject_string)+' train accuracy: %.4f' % tra_acc,len(train_loader))\n",
        "\n",
        "\n",
        "      test_out = eeg_net(x_test.to(DEVICE))\n",
        "      pred_y = torch.max(test_out.cpu(), 1)[1].data.numpy()\n",
        "      accuracy = float((pred_y == y_test.data.numpy()).astype(int).sum()) / float(y_test.size(0))\n",
        "      print(\"Subject \"+str(subject_string)+' test accuracy: %.4f' % accuracy,len(y_test))\n",
        "      print('')\n",
        "      eeg_net.train()\n",
        "  return accuracy\n"
      ],
      "metadata": {
        "id": "4lx3B0Cajb9m"
      },
      "execution_count": 7,
      "outputs": []
    },
    {
      "cell_type": "markdown",
      "source": [
        "# Run"
      ],
      "metadata": {
        "id": "8wrT4GHFj1JD"
      }
    },
    {
      "cell_type": "code",
      "source": [
        "str_list=['aa','al','av','aw','ay']\n",
        "i=2\n",
        "print(str_list[i])\n",
        "acc=train(str_list[i])\n"
      ],
      "metadata": {
        "colab": {
          "base_uri": "https://localhost:8080/"
        },
        "id": "BVGdHlkNj255",
        "outputId": "995c8621-1617-4f39-f0dc-c795a77cfea3"
      },
      "execution_count": 8,
      "outputs": [
        {
          "output_type": "stream",
          "name": "stdout",
          "text": [
            "av\n",
            "Epoch:  49 | train loss: 0.3393 260\n",
            "Subject av train accuracy: 0.8500 2\n",
            "Subject av test accuracy: 0.6154 260\n",
            "\n",
            "Epoch:  99 | train loss: 0.1168 260\n",
            "Subject av train accuracy: 1.0000 2\n",
            "Subject av test accuracy: 0.5962 260\n",
            "\n"
          ]
        }
      ]
    }
  ]
}